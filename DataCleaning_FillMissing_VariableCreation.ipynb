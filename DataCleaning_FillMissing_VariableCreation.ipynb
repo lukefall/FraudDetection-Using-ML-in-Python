{
 "cells": [
  {
   "cell_type": "code",
   "execution_count": 1,
   "metadata": {
    "colab": {},
    "colab_type": "code",
    "id": "ic_b0JbUy6zZ",
    "scrolled": true
   },
   "outputs": [],
   "source": [
    "import pandas as pd\n",
    "import numpy as np\n",
    "%matplotlib inline\n",
    "start_time = pd.datetime.now()"
   ]
  },
  {
   "cell_type": "code",
   "execution_count": 2,
   "metadata": {
    "colab": {},
    "colab_type": "code",
    "id": "nhXbBkVWy6zg",
    "scrolled": false
   },
   "outputs": [],
   "source": [
    "mydata = pd.read_csv('NY property data.csv')"
   ]
  },
  {
   "cell_type": "markdown",
   "metadata": {
    "colab_type": "text",
    "id": "zbpwlnqwsh04"
   },
   "source": [
    "# Data Cleaning"
   ]
  },
  {
   "cell_type": "markdown",
   "metadata": {
    "colab_type": "text",
    "id": "1naNkTwlEeQi"
   },
   "source": [
    "Filling missing ZIP grouped by Borough"
   ]
  },
  {
   "cell_type": "code",
   "execution_count": 3,
   "metadata": {
    "colab": {},
    "colab_type": "code",
    "id": "Jqd12gKm9yr1"
   },
   "outputs": [],
   "source": [
    "mydata[\"ZIP\"] = mydata.groupby(\"B\")[\"ZIP\"].transform(lambda x: x.fillna(x.value_counts().index[0]))"
   ]
  },
  {
   "cell_type": "markdown",
   "metadata": {
    "colab_type": "text",
    "id": "qqqnp5OSWHZh"
   },
   "source": [
    "Create Zip3"
   ]
  },
  {
   "cell_type": "code",
   "execution_count": 4,
   "metadata": {
    "colab": {},
    "colab_type": "code",
    "id": "DV5r9argWIhl"
   },
   "outputs": [],
   "source": [
    "mydata[\"ZIP3\"] = [int(str(i)[:3]) for i in mydata['ZIP']]"
   ]
  },
  {
   "cell_type": "markdown",
   "metadata": {
    "colab_type": "text",
    "id": "S3hyQsz3Fgt7"
   },
   "source": [
    "Make BLDGCL only alphabets"
   ]
  },
  {
   "cell_type": "code",
   "execution_count": 5,
   "metadata": {
    "colab": {
     "base_uri": "https://localhost:8080/",
     "height": 68
    },
    "colab_type": "code",
    "id": "dzL47rD_FgJ9",
    "outputId": "cad98872-a98d-474f-d2aa-8db97e684e57"
   },
   "outputs": [
    {
     "data": {
      "text/plain": [
       "array(['P', 'Z', 'Y', 'T', 'Q', 'R', 'O', 'K', 'L', 'S', 'H', 'U', 'M',\n",
       "       'D', 'RR', 'W', 'V', 'C', 'G', 'A', 'E', 'B', 'I', 'F', 'N', 'J'],\n",
       "      dtype=object)"
      ]
     },
     "execution_count": 5,
     "metadata": {},
     "output_type": "execute_result"
    }
   ],
   "source": [
    "mydata['BLDGCL'] = mydata['BLDGCL'].str.replace('\\d+', '')\n",
    "mydata['BLDGCL'].unique()"
   ]
  },
  {
   "cell_type": "markdown",
   "metadata": {
    "colab_type": "text",
    "id": "GvKFn9GeFVc6"
   },
   "source": [
    "Filling missing Stories group by BLDGCL , ZIP or B"
   ]
  },
  {
   "cell_type": "code",
   "execution_count": 6,
   "metadata": {
    "colab": {},
    "colab_type": "code",
    "id": "_xdWdGh0BJNA"
   },
   "outputs": [],
   "source": [
    "mydata[\"STORIES\"] = mydata.groupby(['ZIP','BLDGCL'])[\"STORIES\"].transform(lambda x: x.fillna(x.mean()))\n",
    "mydata[\"STORIES\"] = mydata.groupby(['ZIP3','BLDGCL'])[\"STORIES\"].transform(lambda x: x.fillna(x.mean()))\n",
    "mydata['STORIES'] = mydata.groupby(['B','BLDGCL'])[\"STORIES\"].transform(lambda x: x.fillna(x.mean()))\n",
    "mydata[\"STORIES\"] = mydata.groupby('BLDGCL')[\"STORIES\"].transform(lambda x: x.fillna(x.mean()))"
   ]
  },
  {
   "cell_type": "markdown",
   "metadata": {
    "colab_type": "text",
    "id": "1mGdI0FdPVgR"
   },
   "source": [
    "Filling zero BLDFRONT, BLDDEPTH, LTFRONT, LTDEPTH with group by mean of BLDGCL , ZIP or B"
   ]
  },
  {
   "cell_type": "code",
   "execution_count": 7,
   "metadata": {
    "colab": {},
    "colab_type": "code",
    "id": "hYETsB8uPEJf"
   },
   "outputs": [],
   "source": [
    "mydata['BLDFRONT'] = mydata.groupby(['ZIP','BLDGCL'])[\"BLDFRONT\"].transform(lambda x: x.replace(0,x.mean()))\n",
    "mydata['BLDFRONT'] = mydata.groupby(['ZIP3','BLDGCL'])[\"BLDFRONT\"].transform(lambda x: x.replace(0,x.mean()))\n",
    "mydata['BLDFRONT'] = mydata.groupby(['B','BLDGCL'])[\"BLDFRONT\"].transform(lambda x: x.replace(0,x.mean()))\n",
    "mydata['BLDFRONT'] = mydata.groupby('BLDGCL')[\"BLDFRONT\"].transform(lambda x: x.replace(0,x.mean()))"
   ]
  },
  {
   "cell_type": "code",
   "execution_count": 8,
   "metadata": {
    "colab": {},
    "colab_type": "code",
    "id": "Mg17yi7NPI-J"
   },
   "outputs": [],
   "source": [
    "mydata['BLDDEPTH'] = mydata.groupby(['ZIP','BLDGCL'])[\"BLDDEPTH\"].transform(lambda x: x.replace(0,x.mean()))\n",
    "mydata['BLDDEPTH'] = mydata.groupby(['ZIP3','BLDGCL'])[\"BLDDEPTH\"].transform(lambda x: x.replace(0,x.mean()))\n",
    "mydata['BLDDEPTH'] = mydata.groupby(['B','BLDGCL'])[\"BLDDEPTH\"].transform(lambda x: x.replace(0,x.mean()))\n",
    "mydata['BLDDEPTH'] = mydata.groupby('BLDGCL')[\"BLDDEPTH\"].transform(lambda x: x.replace(0,x.mean()))"
   ]
  },
  {
   "cell_type": "code",
   "execution_count": 9,
   "metadata": {
    "colab": {},
    "colab_type": "code",
    "id": "RHqaCeCoUMiV"
   },
   "outputs": [],
   "source": [
    "mydata['LTFRONT'] = mydata.groupby(['ZIP','BLDGCL'])[\"LTFRONT\"].transform(lambda x: x.replace(0,x.mean()))\n",
    "mydata['LTFRONT'] = mydata.groupby(['ZIP3','BLDGCL'])[\"LTFRONT\"].transform(lambda x: x.replace(0,x.mean()))\n",
    "mydata['LTFRONT'] = mydata.groupby(['B','BLDGCL'])[\"LTFRONT\"].transform(lambda x: x.replace(0,x.mean()))\n",
    "mydata['LTFRONT'] = mydata.groupby('BLDGCL')[\"LTFRONT\"].transform(lambda x: x.replace(0,x.mean()))"
   ]
  },
  {
   "cell_type": "code",
   "execution_count": 10,
   "metadata": {
    "colab": {},
    "colab_type": "code",
    "id": "fG-q9s-TUalZ"
   },
   "outputs": [],
   "source": [
    "mydata['LTDEPTH'] = mydata.groupby(['ZIP','BLDGCL'])[\"LTDEPTH\"].transform(lambda x: x.replace(0,x.mean()))\n",
    "mydata['LTDEPTH'] = mydata.groupby(['ZIP3','BLDGCL'])[\"LTDEPTH\"].transform(lambda x: x.replace(0,x.mean()))\n",
    "mydata['LTDEPTH'] = mydata.groupby(['B','BLDGCL'])[\"LTDEPTH\"].transform(lambda x: x.replace(0,x.mean()))\n",
    "mydata['LTDEPTH'] = mydata.groupby('BLDGCL')[\"LTDEPTH\"].transform(lambda x: x.replace(0,x.mean()))"
   ]
  },
  {
   "cell_type": "markdown",
   "metadata": {
    "colab_type": "text",
    "id": "gFSWgQlFU-PK"
   },
   "source": [
    "Filling zero value FULLVAL, AVTOT, AVLAND with group by mean of BLDGCL , ZIP or B"
   ]
  },
  {
   "cell_type": "code",
   "execution_count": 11,
   "metadata": {
    "colab": {},
    "colab_type": "code",
    "id": "wMJZs2PeU5xX"
   },
   "outputs": [],
   "source": [
    "mydata['FULLVAL'] = mydata.groupby(['ZIP','BLDGCL'])[\"FULLVAL\"].transform(lambda x: x.replace(0,x.mean()))\n",
    "mydata['FULLVAL'] = mydata.groupby(['ZIP3','BLDGCL'])[\"FULLVAL\"].transform(lambda x: x.replace(0,x.mean()))\n",
    "mydata['FULLVAL'] = mydata.groupby(['B','BLDGCL'])[\"FULLVAL\"].transform(lambda x: x.replace(0,x.mean()))\n",
    "mydata['FULLVAL'] = mydata.groupby('BLDGCL')[\"FULLVAL\"].transform(lambda x: x.replace(0,x.mean()))"
   ]
  },
  {
   "cell_type": "code",
   "execution_count": 12,
   "metadata": {
    "colab": {},
    "colab_type": "code",
    "id": "PResXOcqVK9_"
   },
   "outputs": [],
   "source": [
    "mydata['AVTOT'] = mydata.groupby(['ZIP','BLDGCL'])[\"AVTOT\"].transform(lambda x: x.replace(0,x.mean()))\n",
    "mydata['AVTOT'] = mydata.groupby(['ZIP3','BLDGCL'])[\"AVTOT\"].transform(lambda x: x.replace(0,x.mean()))\n",
    "mydata['AVTOT'] = mydata.groupby(['B','BLDGCL'])[\"AVTOT\"].transform(lambda x: x.replace(0,x.mean()))\n",
    "mydata['AVTOT'] = mydata.groupby('BLDGCL')[\"AVTOT\"].transform(lambda x: x.replace(0,x.mean()))"
   ]
  },
  {
   "cell_type": "code",
   "execution_count": 13,
   "metadata": {
    "colab": {},
    "colab_type": "code",
    "id": "Sd2b300CVONq"
   },
   "outputs": [],
   "source": [
    "mydata['AVLAND'] = mydata.groupby(['ZIP','BLDGCL'])[\"AVLAND\"].transform(lambda x: x.replace(0,x.mean()))\n",
    "mydata['AVLAND'] = mydata.groupby(['ZIP3','BLDGCL'])[\"AVLAND\"].transform(lambda x: x.replace(0,x.mean()))\n",
    "mydata['AVLAND'] = mydata.groupby(['B','BLDGCL'])[\"AVLAND\"].transform(lambda x: x.replace(0,x.mean()))\n",
    "mydata['AVLAND'] = mydata.groupby('BLDGCL')[\"AVLAND\"].transform(lambda x: x.replace(0,x.mean()))"
   ]
  },
  {
   "cell_type": "markdown",
   "metadata": {
    "colab_type": "text",
    "id": "fol1wABoVUYU"
   },
   "source": [
    "Create 3 variables: LOTAREA, BLDAREA, BLDVOL"
   ]
  },
  {
   "cell_type": "code",
   "execution_count": 14,
   "metadata": {
    "colab": {},
    "colab_type": "code",
    "id": "b7Dhiff8VR8u"
   },
   "outputs": [],
   "source": [
    "mydata['LOTAREA'] = mydata['LTFRONT'] * mydata['LTDEPTH']\n",
    "mydata['BLDAREA'] = mydata['BLDFRONT'] * mydata['BLDDEPTH']\n",
    "mydata['BLDVOL'] = mydata['BLDAREA'] * mydata['STORIES']"
   ]
  },
  {
   "cell_type": "markdown",
   "metadata": {
    "colab_type": "text",
    "id": "y_H-ufeQYING"
   },
   "source": [
    "Create 9 ratios"
   ]
  },
  {
   "cell_type": "code",
   "execution_count": 15,
   "metadata": {
    "colab": {},
    "colab_type": "code",
    "id": "f4_Eees0YHHr"
   },
   "outputs": [],
   "source": [
    "mydata['R1'] = mydata['FULLVAL'] / mydata['LOTAREA']\n",
    "mydata['R2'] = mydata['FULLVAL'] / mydata['BLDAREA']\n",
    "mydata['R3'] = mydata['FULLVAL'] / mydata['BLDVOL']\n",
    "mydata['R4'] = mydata['AVLAND'] / mydata['LOTAREA']\n",
    "mydata['R5'] = mydata['AVLAND'] / mydata['BLDAREA']\n",
    "mydata['R6'] = mydata['AVLAND'] / mydata['BLDVOL']\n",
    "mydata['R7'] = mydata['AVTOT'] / mydata['LOTAREA']\n",
    "mydata['R8'] = mydata['AVTOT'] / mydata['BLDAREA']\n",
    "mydata['R9'] = mydata['AVTOT'] / mydata['BLDVOL']"
   ]
  },
  {
   "cell_type": "code",
   "execution_count": 20,
   "metadata": {},
   "outputs": [],
   "source": [
    "def group_ratios(groups,ratios):\n",
    "    for g in groups:\n",
    "        for r in ratios:\n",
    "            mydata[r+'_by_'+g] = None\n",
    "            cache = {}\n",
    "            for i in range(len(mydata)):\n",
    "                if (r+'_by_'+g+str(mydata[g][i])) in cache:\n",
    "                    mydata[r+'_by_'+g][i] = cache[r+'_by_'+g+str(mydata[g][i])]\n",
    "                else:\n",
    "                    mydata[r+'_by_'+g][i] = mydata[mydata[g]==mydata[g][i]][r].mean()\n",
    "                    cache[r+'_by_'+g+str(mydata[g][i])] = mydata[r+'_by_'+g][i]\n",
    "                    if i % len(mydata) == 0:\n",
    "                        print(f'this is the for ratio {r} in {g} group')"
   ]
  },
  {
   "cell_type": "code",
   "execution_count": 21,
   "metadata": {
    "colab": {
     "base_uri": "https://localhost:8080/",
     "height": 104
    },
    "colab_type": "code",
    "id": "AUOZml8OafJ-",
    "outputId": "ba706c0d-dc1e-485a-a1c9-faddb36c035c"
   },
   "outputs": [
    {
     "name": "stderr",
     "output_type": "stream",
     "text": [
      "C:\\ProgramData\\Anaconda3\\lib\\site-packages\\ipykernel_launcher.py:10: SettingWithCopyWarning: \n",
      "A value is trying to be set on a copy of a slice from a DataFrame\n",
      "\n",
      "See the caveats in the documentation: http://pandas.pydata.org/pandas-docs/stable/user_guide/indexing.html#returning-a-view-versus-a-copy\n",
      "  # Remove the CWD from sys.path while we load stuff.\n",
      "C:\\ProgramData\\Anaconda3\\lib\\site-packages\\ipykernel_launcher.py:8: SettingWithCopyWarning: \n",
      "A value is trying to be set on a copy of a slice from a DataFrame\n",
      "\n",
      "See the caveats in the documentation: http://pandas.pydata.org/pandas-docs/stable/user_guide/indexing.html#returning-a-view-versus-a-copy\n",
      "  \n"
     ]
    },
    {
     "name": "stdout",
     "output_type": "stream",
     "text": [
      "this is the for ratio R1 in ZIP group\n",
      "this is the for ratio R2 in ZIP group\n",
      "this is the for ratio R3 in ZIP group\n",
      "this is the for ratio R4 in ZIP group\n",
      "this is the for ratio R5 in ZIP group\n",
      "this is the for ratio R6 in ZIP group\n",
      "this is the for ratio R7 in ZIP group\n",
      "this is the for ratio R8 in ZIP group\n",
      "this is the for ratio R9 in ZIP group\n",
      "this is the for ratio R1 in ZIP3 group\n",
      "this is the for ratio R2 in ZIP3 group\n",
      "this is the for ratio R3 in ZIP3 group\n",
      "this is the for ratio R4 in ZIP3 group\n",
      "this is the for ratio R5 in ZIP3 group\n",
      "this is the for ratio R6 in ZIP3 group\n",
      "this is the for ratio R7 in ZIP3 group\n",
      "this is the for ratio R8 in ZIP3 group\n",
      "this is the for ratio R9 in ZIP3 group\n",
      "this is the for ratio R1 in TAXCLASS group\n",
      "this is the for ratio R2 in TAXCLASS group\n",
      "this is the for ratio R3 in TAXCLASS group\n",
      "this is the for ratio R4 in TAXCLASS group\n",
      "this is the for ratio R5 in TAXCLASS group\n",
      "this is the for ratio R6 in TAXCLASS group\n",
      "this is the for ratio R7 in TAXCLASS group\n",
      "this is the for ratio R8 in TAXCLASS group\n",
      "this is the for ratio R9 in TAXCLASS group\n",
      "this is the for ratio R1 in B group\n",
      "this is the for ratio R2 in B group\n",
      "this is the for ratio R3 in B group\n",
      "this is the for ratio R4 in B group\n",
      "this is the for ratio R5 in B group\n",
      "this is the for ratio R6 in B group\n",
      "this is the for ratio R7 in B group\n",
      "this is the for ratio R8 in B group\n",
      "this is the for ratio R9 in B group\n"
     ]
    }
   ],
   "source": [
    "groups = ['ZIP','ZIP3','TAXCLASS','B']\n",
    "ratios = ['R1','R2','R3','R4','R5','R6','R7','R8','R9']\n",
    "group_ratios(groups,ratios)"
   ]
  },
  {
   "cell_type": "code",
   "execution_count": 22,
   "metadata": {
    "colab": {},
    "colab_type": "code",
    "id": "Hiqujra5alg3"
   },
   "outputs": [],
   "source": [
    "mydata.to_csv(r'Raios.csv')"
   ]
  }
 ],
 "metadata": {
  "anaconda-cloud": {},
  "colab": {
   "name": "Project 1 - Anomaly detection.ipynb",
   "provenance": []
  },
  "kernelspec": {
   "display_name": "Python 3",
   "language": "python",
   "name": "python3"
  },
  "language_info": {
   "codemirror_mode": {
    "name": "ipython",
    "version": 3
   },
   "file_extension": ".py",
   "mimetype": "text/x-python",
   "name": "python",
   "nbconvert_exporter": "python",
   "pygments_lexer": "ipython3",
   "version": "3.7.4"
  },
  "toc": {
   "base_numbering": 1,
   "nav_menu": {},
   "number_sections": true,
   "sideBar": true,
   "skip_h1_title": false,
   "title_cell": "Table of Contents",
   "title_sidebar": "Contents",
   "toc_cell": false,
   "toc_position": {},
   "toc_section_display": true,
   "toc_window_display": false
  }
 },
 "nbformat": 4,
 "nbformat_minor": 1
}
