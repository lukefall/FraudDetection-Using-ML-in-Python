{
 "cells": [
  {
   "cell_type": "code",
   "execution_count": 62,
   "metadata": {
    "colab": {},
    "colab_type": "code",
    "id": "ic_b0JbUy6zZ",
    "scrolled": true
   },
   "outputs": [],
   "source": [
    "import pandas as pd\n",
    "import numpy as np\n",
    "%matplotlib inline\n",
    "start_time = pd.datetime.now()\n",
    "import timeit"
   ]
  },
  {
   "cell_type": "code",
   "execution_count": 63,
   "metadata": {
    "colab": {},
    "colab_type": "code",
    "id": "NMBXdNvHvWdZ",
    "outputId": "8884befc-3fcd-4d27-b4ea-de75ff337f65"
   },
   "outputs": [],
   "source": [
    "#mydata = pd.read_csv('Raios.csv')"
   ]
  },
  {
   "cell_type": "code",
   "execution_count": 64,
   "metadata": {
    "colab": {},
    "colab_type": "code",
    "id": "nhXbBkVWy6zg",
    "scrolled": false
   },
   "outputs": [],
   "source": [
    "mydata = pd.read_csv('NY property data.csv')"
   ]
  },
  {
   "cell_type": "markdown",
   "metadata": {
    "colab_type": "text",
    "id": "zbpwlnqwsh04"
   },
   "source": [
    "# Data Cleaning"
   ]
  },
  {
   "cell_type": "markdown",
   "metadata": {
    "colab_type": "text",
    "id": "1naNkTwlEeQi"
   },
   "source": [
    "Filling missing ZIP grouped by Borough"
   ]
  },
  {
   "cell_type": "code",
   "execution_count": 65,
   "metadata": {
    "colab": {},
    "colab_type": "code",
    "id": "Jqd12gKm9yr1"
   },
   "outputs": [],
   "source": [
    "mydata[\"ZIP\"] = mydata.groupby(\"B\")[\"ZIP\"].transform(lambda x: x.fillna(x.value_counts().index[0]))"
   ]
  },
  {
   "cell_type": "markdown",
   "metadata": {
    "colab_type": "text",
    "id": "qqqnp5OSWHZh"
   },
   "source": [
    "Create Zip3"
   ]
  },
  {
   "cell_type": "code",
   "execution_count": 66,
   "metadata": {
    "colab": {},
    "colab_type": "code",
    "id": "DV5r9argWIhl"
   },
   "outputs": [],
   "source": [
    "mydata[\"ZIP3\"] = [int(str(i)[:3]) for i in mydata['ZIP']]"
   ]
  },
  {
   "cell_type": "markdown",
   "metadata": {
    "colab_type": "text",
    "id": "S3hyQsz3Fgt7"
   },
   "source": [
    "Make BLDGCL only alphabets"
   ]
  },
  {
   "cell_type": "code",
   "execution_count": 67,
   "metadata": {
    "colab": {
     "base_uri": "https://localhost:8080/",
     "height": 68
    },
    "colab_type": "code",
    "id": "dzL47rD_FgJ9",
    "outputId": "cad98872-a98d-474f-d2aa-8db97e684e57"
   },
   "outputs": [
    {
     "data": {
      "text/plain": [
       "array(['P', 'Z', 'Y', 'T', 'Q', 'R', 'O', 'K', 'L', 'S', 'H', 'U', 'M',\n",
       "       'D', 'RR', 'W', 'V', 'C', 'G', 'A', 'E', 'B', 'I', 'F', 'N', 'J'],\n",
       "      dtype=object)"
      ]
     },
     "execution_count": 67,
     "metadata": {},
     "output_type": "execute_result"
    }
   ],
   "source": [
    "mydata['BLDGCL'] = mydata['BLDGCL'].str.replace('\\d+', '')\n",
    "mydata['BLDGCL'].unique()"
   ]
  },
  {
   "cell_type": "markdown",
   "metadata": {
    "colab_type": "text",
    "id": "GvKFn9GeFVc6"
   },
   "source": [
    "Filling missing Stories group by BLDGCL , ZIP or B"
   ]
  },
  {
   "cell_type": "code",
   "execution_count": 68,
   "metadata": {
    "colab": {},
    "colab_type": "code",
    "id": "_xdWdGh0BJNA"
   },
   "outputs": [],
   "source": [
    "mydata[\"STORIES\"] = mydata.groupby(['ZIP','BLDGCL'])[\"STORIES\"].transform(lambda x: x.fillna(x.mean()))\n",
    "mydata[\"STORIES\"] = mydata.groupby(['ZIP3','BLDGCL'])[\"STORIES\"].transform(lambda x: x.fillna(x.mean()))\n",
    "mydata['STORIES'] = mydata.groupby(['B','BLDGCL'])[\"STORIES\"].transform(lambda x: x.fillna(x.mean()))\n",
    "mydata[\"STORIES\"] = mydata.groupby('BLDGCL')[\"STORIES\"].transform(lambda x: x.fillna(x.mean()))"
   ]
  },
  {
   "cell_type": "markdown",
   "metadata": {
    "colab_type": "text",
    "id": "1mGdI0FdPVgR"
   },
   "source": [
    "Filling zero BLDFRONT, BLDDEPTH, LTFRONT, LTDEPTH with group by mean of BLDGCL , ZIP or B"
   ]
  },
  {
   "cell_type": "code",
   "execution_count": 69,
   "metadata": {
    "colab": {},
    "colab_type": "code",
    "id": "hYETsB8uPEJf"
   },
   "outputs": [],
   "source": [
    "mydata['BLDFRONT'] = mydata.groupby(['ZIP','BLDGCL'])[\"BLDFRONT\"].transform(lambda x: x.replace(0,x.mean()))\n",
    "mydata['BLDFRONT'] = mydata.groupby(['ZIP3','BLDGCL'])[\"BLDFRONT\"].transform(lambda x: x.replace(0,x.mean()))\n",
    "mydata['BLDFRONT'] = mydata.groupby(['B','BLDGCL'])[\"BLDFRONT\"].transform(lambda x: x.replace(0,x.mean()))\n",
    "mydata['BLDFRONT'] = mydata.groupby('BLDGCL')[\"BLDFRONT\"].transform(lambda x: x.replace(0,x.mean()))"
   ]
  },
  {
   "cell_type": "code",
   "execution_count": 70,
   "metadata": {
    "colab": {},
    "colab_type": "code",
    "id": "Mg17yi7NPI-J"
   },
   "outputs": [],
   "source": [
    "mydata['BLDDEPTH'] = mydata.groupby(['ZIP','BLDGCL'])[\"BLDDEPTH\"].transform(lambda x: x.replace(0,x.mean()))\n",
    "mydata['BLDDEPTH'] = mydata.groupby(['ZIP3','BLDGCL'])[\"BLDDEPTH\"].transform(lambda x: x.replace(0,x.mean()))\n",
    "mydata['BLDDEPTH'] = mydata.groupby(['B','BLDGCL'])[\"BLDDEPTH\"].transform(lambda x: x.replace(0,x.mean()))\n",
    "mydata['BLDDEPTH'] = mydata.groupby('BLDGCL')[\"BLDDEPTH\"].transform(lambda x: x.replace(0,x.mean()))"
   ]
  },
  {
   "cell_type": "code",
   "execution_count": 71,
   "metadata": {
    "colab": {},
    "colab_type": "code",
    "id": "RHqaCeCoUMiV"
   },
   "outputs": [],
   "source": [
    "mydata['LTFRONT'] = mydata.groupby(['ZIP','BLDGCL'])[\"LTFRONT\"].transform(lambda x: x.replace(0,x.mean()))\n",
    "mydata['LTFRONT'] = mydata.groupby(['ZIP3','BLDGCL'])[\"LTFRONT\"].transform(lambda x: x.replace(0,x.mean()))\n",
    "mydata['LTFRONT'] = mydata.groupby(['B','BLDGCL'])[\"LTFRONT\"].transform(lambda x: x.replace(0,x.mean()))\n",
    "mydata['LTFRONT'] = mydata.groupby('BLDGCL')[\"LTFRONT\"].transform(lambda x: x.replace(0,x.mean()))"
   ]
  },
  {
   "cell_type": "code",
   "execution_count": 72,
   "metadata": {
    "colab": {},
    "colab_type": "code",
    "id": "fG-q9s-TUalZ"
   },
   "outputs": [],
   "source": [
    "mydata['LTDEPTH'] = mydata.groupby(['ZIP','BLDGCL'])[\"LTDEPTH\"].transform(lambda x: x.replace(0,x.mean()))\n",
    "mydata['LTDEPTH'] = mydata.groupby(['ZIP3','BLDGCL'])[\"LTDEPTH\"].transform(lambda x: x.replace(0,x.mean()))\n",
    "mydata['LTDEPTH'] = mydata.groupby(['B','BLDGCL'])[\"LTDEPTH\"].transform(lambda x: x.replace(0,x.mean()))\n",
    "mydata['LTDEPTH'] = mydata.groupby('BLDGCL')[\"LTDEPTH\"].transform(lambda x: x.replace(0,x.mean()))"
   ]
  },
  {
   "cell_type": "markdown",
   "metadata": {
    "colab_type": "text",
    "id": "gFSWgQlFU-PK"
   },
   "source": [
    "Filling zero value FULLVAL, AVTOT, AVLAND with group by mean of BLDGCL , ZIP or B"
   ]
  },
  {
   "cell_type": "code",
   "execution_count": 73,
   "metadata": {
    "colab": {},
    "colab_type": "code",
    "id": "wMJZs2PeU5xX"
   },
   "outputs": [],
   "source": [
    "mydata['FULLVAL'] = mydata.groupby(['ZIP','BLDGCL'])[\"FULLVAL\"].transform(lambda x: x.replace(0,x.mean()))\n",
    "mydata['FULLVAL'] = mydata.groupby(['ZIP3','BLDGCL'])[\"FULLVAL\"].transform(lambda x: x.replace(0,x.mean()))\n",
    "mydata['FULLVAL'] = mydata.groupby(['B','BLDGCL'])[\"FULLVAL\"].transform(lambda x: x.replace(0,x.mean()))\n",
    "mydata['FULLVAL'] = mydata.groupby('BLDGCL')[\"FULLVAL\"].transform(lambda x: x.replace(0,x.mean()))"
   ]
  },
  {
   "cell_type": "code",
   "execution_count": 74,
   "metadata": {
    "colab": {},
    "colab_type": "code",
    "id": "PResXOcqVK9_"
   },
   "outputs": [],
   "source": [
    "mydata['AVTOT'] = mydata.groupby(['ZIP','BLDGCL'])[\"AVTOT\"].transform(lambda x: x.replace(0,x.mean()))\n",
    "mydata['AVTOT'] = mydata.groupby(['ZIP3','BLDGCL'])[\"AVTOT\"].transform(lambda x: x.replace(0,x.mean()))\n",
    "mydata['AVTOT'] = mydata.groupby(['B','BLDGCL'])[\"AVTOT\"].transform(lambda x: x.replace(0,x.mean()))\n",
    "mydata['AVTOT'] = mydata.groupby('BLDGCL')[\"AVTOT\"].transform(lambda x: x.replace(0,x.mean()))"
   ]
  },
  {
   "cell_type": "code",
   "execution_count": 75,
   "metadata": {
    "colab": {},
    "colab_type": "code",
    "id": "Sd2b300CVONq"
   },
   "outputs": [],
   "source": [
    "mydata['AVLAND'] = mydata.groupby(['ZIP','BLDGCL'])[\"AVLAND\"].transform(lambda x: x.replace(0,x.mean()))\n",
    "mydata['AVLAND'] = mydata.groupby(['ZIP3','BLDGCL'])[\"AVLAND\"].transform(lambda x: x.replace(0,x.mean()))\n",
    "mydata['AVLAND'] = mydata.groupby(['B','BLDGCL'])[\"AVLAND\"].transform(lambda x: x.replace(0,x.mean()))\n",
    "mydata['AVLAND'] = mydata.groupby('BLDGCL')[\"AVLAND\"].transform(lambda x: x.replace(0,x.mean()))"
   ]
  },
  {
   "cell_type": "markdown",
   "metadata": {
    "colab_type": "text",
    "id": "fol1wABoVUYU"
   },
   "source": [
    "Create 3 variables: LOTAREA, BLDAREA, BLDVOL"
   ]
  },
  {
   "cell_type": "code",
   "execution_count": 76,
   "metadata": {
    "colab": {},
    "colab_type": "code",
    "id": "b7Dhiff8VR8u"
   },
   "outputs": [],
   "source": [
    "mydata['LOTAREA'] = mydata['LTFRONT'] * mydata['LTDEPTH']\n",
    "mydata['BLDAREA'] = mydata['BLDFRONT'] * mydata['BLDDEPTH']\n",
    "mydata['BLDVOL'] = mydata['BLDAREA'] * mydata['STORIES']"
   ]
  },
  {
   "cell_type": "markdown",
   "metadata": {
    "colab_type": "text",
    "id": "y_H-ufeQYING"
   },
   "source": [
    "Create 9 ratios"
   ]
  },
  {
   "cell_type": "code",
   "execution_count": 77,
   "metadata": {
    "colab": {},
    "colab_type": "code",
    "id": "f4_Eees0YHHr"
   },
   "outputs": [],
   "source": [
    "mydata['R1'] = mydata['FULLVAL'] / mydata['LOTAREA']\n",
    "mydata['R2'] = mydata['FULLVAL'] / mydata['BLDAREA']\n",
    "mydata['R3'] = mydata['FULLVAL'] / mydata['BLDVOL']\n",
    "mydata['R4'] = mydata['AVLAND'] / mydata['LOTAREA']\n",
    "mydata['R5'] = mydata['AVLAND'] / mydata['BLDAREA']\n",
    "mydata['R6'] = mydata['AVLAND'] / mydata['BLDVOL']\n",
    "mydata['R7'] = mydata['AVTOT'] / mydata['LOTAREA']\n",
    "mydata['R8'] = mydata['AVTOT'] / mydata['BLDAREA']\n",
    "mydata['R9'] = mydata['AVTOT'] / mydata['BLDVOL']"
   ]
  },
  {
   "cell_type": "markdown",
   "metadata": {},
   "source": [
    "Calculate the 45 variables"
   ]
  },
  {
   "cell_type": "code",
   "execution_count": 78,
   "metadata": {},
   "outputs": [
    {
     "name": "stdout",
     "output_type": "stream",
     "text": [
      "Finished R1_by_ZIP ----> Runtime: 0.294s\n",
      "Finished R1_by_ZIP3 ----> Runtime: 0.581s\n",
      "Finished R1_by_TAXCLASS ----> Runtime: 0.901s\n",
      "Finished R1_by_B ----> Runtime: 1.203s\n",
      "Finished R1_by_ALL ----> Runtime: 1.211s\n",
      "Finished R2_by_ZIP ----> Runtime: 1.545s\n",
      "Finished R2_by_ZIP3 ----> Runtime: 1.872s\n",
      "Finished R2_by_TAXCLASS ----> Runtime: 2.228s\n",
      "Finished R2_by_B ----> Runtime: 2.57s\n",
      "Finished R2_by_ALL ----> Runtime: 2.578s\n",
      "Finished R3_by_ZIP ----> Runtime: 2.938s\n",
      "Finished R3_by_ZIP3 ----> Runtime: 3.31s\n",
      "Finished R3_by_TAXCLASS ----> Runtime: 3.715s\n",
      "Finished R3_by_B ----> Runtime: 4.102s\n",
      "Finished R3_by_ALL ----> Runtime: 4.111s\n",
      "Finished R4_by_ZIP ----> Runtime: 4.52s\n",
      "Finished R4_by_ZIP3 ----> Runtime: 4.931s\n",
      "Finished R4_by_TAXCLASS ----> Runtime: 5.386s\n",
      "Finished R4_by_B ----> Runtime: 5.815s\n",
      "Finished R4_by_ALL ----> Runtime: 5.824s\n",
      "Finished R5_by_ZIP ----> Runtime: 6.281s\n",
      "Finished R5_by_ZIP3 ----> Runtime: 6.725s\n",
      "Finished R5_by_TAXCLASS ----> Runtime: 7.217s\n",
      "Finished R5_by_B ----> Runtime: 7.687s\n",
      "Finished R5_by_ALL ----> Runtime: 7.695s\n",
      "Finished R6_by_ZIP ----> Runtime: 8.177s\n",
      "Finished R6_by_ZIP3 ----> Runtime: 8.679s\n",
      "Finished R6_by_TAXCLASS ----> Runtime: 9.202s\n",
      "Finished R6_by_B ----> Runtime: 9.706s\n",
      "Finished R6_by_ALL ----> Runtime: 9.715s\n",
      "Finished R7_by_ZIP ----> Runtime: 10.241s\n",
      "Finished R7_by_ZIP3 ----> Runtime: 10.769s\n",
      "Finished R7_by_TAXCLASS ----> Runtime: 11.328s\n",
      "Finished R7_by_B ----> Runtime: 11.876s\n",
      "Finished R7_by_ALL ----> Runtime: 11.885s\n",
      "Finished R8_by_ZIP ----> Runtime: 12.456s\n",
      "Finished R8_by_ZIP3 ----> Runtime: 13.018s\n",
      "Finished R8_by_TAXCLASS ----> Runtime: 13.624s\n",
      "Finished R8_by_B ----> Runtime: 14.202s\n",
      "Finished R8_by_ALL ----> Runtime: 14.21s\n",
      "Finished R9_by_ZIP ----> Runtime: 14.82s\n",
      "Finished R9_by_ZIP3 ----> Runtime: 15.442s\n",
      "Finished R9_by_TAXCLASS ----> Runtime: 16.084s\n",
      "Finished R9_by_B ----> Runtime: 16.704s\n",
      "Finished R9_by_ALL ----> Runtime: 16.713s\n",
      "TOTAL RUNTIME: 16.713s\n"
     ]
    }
   ],
   "source": [
    "groups = ['ZIP','ZIP3','TAXCLASS','B', 'ALL']\n",
    "ratios = ['R1','R2','R3','R4','R5','R6','R7','R8','R9']\n",
    "start = timeit.default_timer()\n",
    "for r in ratios:\n",
    "    for g in groups:\n",
    "        if g == 'ALL':\n",
    "            mydata[rf'{r}_by_{g}'] = mydata[r]/mydata[r].mean()\n",
    "            stop = timeit.default_timer()\n",
    "            print(f'Finished {r}_by_{g} ----> Runtime: {round(stop-start,3)}s')\n",
    "        else:\n",
    "            mydata[rf'{r}_by_{g}'] = mydata[r]/mydata.groupby(g)[r].transform('mean')\n",
    "            stop = timeit.default_timer()\n",
    "            print(f'Finished {r}_by_{g} ----> Runtime: {round(stop-start,3)}s')\n",
    "print(f'TOTAL RUNTIME: {round(timeit.default_timer()-start,3)}s')"
   ]
  },
  {
   "cell_type": "code",
   "execution_count": 82,
   "metadata": {},
   "outputs": [
    {
     "data": {
      "text/html": [
       "<div>\n",
       "<style scoped>\n",
       "    .dataframe tbody tr th:only-of-type {\n",
       "        vertical-align: middle;\n",
       "    }\n",
       "\n",
       "    .dataframe tbody tr th {\n",
       "        vertical-align: top;\n",
       "    }\n",
       "\n",
       "    .dataframe thead th {\n",
       "        text-align: right;\n",
       "    }\n",
       "</style>\n",
       "<table border=\"1\" class=\"dataframe\">\n",
       "  <thead>\n",
       "    <tr style=\"text-align: right;\">\n",
       "      <th></th>\n",
       "      <th>RECORD</th>\n",
       "      <th>R8_by_ALL</th>\n",
       "    </tr>\n",
       "  </thead>\n",
       "  <tbody>\n",
       "    <tr>\n",
       "      <th>0</th>\n",
       "      <td>1</td>\n",
       "      <td>7.355430e-05</td>\n",
       "    </tr>\n",
       "    <tr>\n",
       "      <th>1</th>\n",
       "      <td>2</td>\n",
       "      <td>4.726828e-05</td>\n",
       "    </tr>\n",
       "    <tr>\n",
       "      <th>2</th>\n",
       "      <td>3</td>\n",
       "      <td>9.898064e-07</td>\n",
       "    </tr>\n",
       "    <tr>\n",
       "      <th>3</th>\n",
       "      <td>4</td>\n",
       "      <td>3.164481e-06</td>\n",
       "    </tr>\n",
       "    <tr>\n",
       "      <th>4</th>\n",
       "      <td>5</td>\n",
       "      <td>2.029410e-04</td>\n",
       "    </tr>\n",
       "    <tr>\n",
       "      <th>...</th>\n",
       "      <td>...</td>\n",
       "      <td>...</td>\n",
       "    </tr>\n",
       "    <tr>\n",
       "      <th>1070989</th>\n",
       "      <td>1070990</td>\n",
       "      <td>2.512151e-07</td>\n",
       "    </tr>\n",
       "    <tr>\n",
       "      <th>1070990</th>\n",
       "      <td>1070991</td>\n",
       "      <td>1.507585e-07</td>\n",
       "    </tr>\n",
       "    <tr>\n",
       "      <th>1070991</th>\n",
       "      <td>1070992</td>\n",
       "      <td>2.513441e-07</td>\n",
       "    </tr>\n",
       "    <tr>\n",
       "      <th>1070992</th>\n",
       "      <td>1070993</td>\n",
       "      <td>2.880256e-07</td>\n",
       "    </tr>\n",
       "    <tr>\n",
       "      <th>1070993</th>\n",
       "      <td>1070994</td>\n",
       "      <td>2.613206e-07</td>\n",
       "    </tr>\n",
       "  </tbody>\n",
       "</table>\n",
       "<p>1070994 rows × 2 columns</p>\n",
       "</div>"
      ],
      "text/plain": [
       "          RECORD     R8_by_ALL\n",
       "0              1  7.355430e-05\n",
       "1              2  4.726828e-05\n",
       "2              3  9.898064e-07\n",
       "3              4  3.164481e-06\n",
       "4              5  2.029410e-04\n",
       "...          ...           ...\n",
       "1070989  1070990  2.512151e-07\n",
       "1070990  1070991  1.507585e-07\n",
       "1070991  1070992  2.513441e-07\n",
       "1070992  1070993  2.880256e-07\n",
       "1070993  1070994  2.613206e-07\n",
       "\n",
       "[1070994 rows x 2 columns]"
      ]
     },
     "execution_count": 82,
     "metadata": {},
     "output_type": "execute_result"
    }
   ],
   "source": [
    "mydata[['RECORD','R8_by_ALL']]"
   ]
  },
  {
   "cell_type": "markdown",
   "metadata": {},
   "source": [
    "Write to CSV"
   ]
  },
  {
   "cell_type": "code",
   "execution_count": null,
   "metadata": {},
   "outputs": [],
   "source": [
    "#mydata.to_csv(r'Ratios.csv')"
   ]
  }
 ],
 "metadata": {
  "anaconda-cloud": {},
  "colab": {
   "name": "Project_1_Anomaly_detection.ipynb",
   "provenance": [],
   "toc_visible": true
  },
  "kernelspec": {
   "display_name": "Python 3",
   "language": "python",
   "name": "python3"
  },
  "language_info": {
   "codemirror_mode": {
    "name": "ipython",
    "version": 3
   },
   "file_extension": ".py",
   "mimetype": "text/x-python",
   "name": "python",
   "nbconvert_exporter": "python",
   "pygments_lexer": "ipython3",
   "version": "3.7.3"
  },
  "toc": {
   "base_numbering": 1,
   "nav_menu": {},
   "number_sections": true,
   "sideBar": true,
   "skip_h1_title": false,
   "title_cell": "Table of Contents",
   "title_sidebar": "Contents",
   "toc_cell": false,
   "toc_position": {},
   "toc_section_display": true,
   "toc_window_display": false
  }
 },
 "nbformat": 4,
 "nbformat_minor": 1
}
